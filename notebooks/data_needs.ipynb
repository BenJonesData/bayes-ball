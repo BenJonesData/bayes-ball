{
 "cells": [
  {
   "cell_type": "markdown",
   "metadata": {},
   "source": [
    "# Investigating Data Needs\n",
    "\n",
    "When searching for data, it’s essential to understand how a model's performance changes with different training datasets. This helps us determine what data to prioritize for optimal results.\n",
    "\n",
    "In this notebook, we examine how the choice of leagues in the training data affects model performance when evaluated exclusively on the English Premier League (EPL). To do this, we will:\n",
    "\n",
    "0. [Establish a Baseline Model](#baseline-training-on-all-available-epl-data-only):\n",
    "    - The model will predict second-half-of-season results using first-half season statistics as features.\n",
    "    - It will be trained on all available EPL data*.\n",
    "\n",
    "1. [Experiment with Data Cutoffs](#experiment-1-cutting-training-data-to-recent-seasons):\n",
    "    - We will assess the impact of restricting the training data to more recent EPL seasons by removing older seasons.\n",
    "\n",
    "2. [Incorporate Additional Leagues](#experiment-2-extending-training-data-to-other-top-leagues-all-seasons):\n",
    "    - We will explore how training on multiple leagues affects model performance when applied to EPL predictions.\n",
    "\n",
    "3. [Combine Both Strategies](#experiment-3-training-on-all-top-leagues-recent-seasons):\n",
    "    - We will train the model using data from multiple leagues but only from recent seasons. This will help determine whether including more leagues can compensate for a lack of historical EPL data should we encounter this issue in our search.\n",
    "\n",
    "4. [Remove EPL Data Completely](#experiment-4-training-on-non-epl-data-only)\n",
    "    - Finally, as a bonus, we will train on non-EPL data and test on EPL data to understand how important it is to represent the leagues we are predicting for in our training set.\n",
    "\n",
    "*The dataset we are using backdates to 2010 however there are additional seasons available from the source.\n",
    "\n",
    "By conducting these experiments, we aim to identify the most effective training data composition for predicting EPL outcomes.\n",
    "\n",
    "The modelling we use in this notebook (particularly the concept of using aggregated first-half-of-season stats to predict results in the second half) does not necessarily reflect how our future model(s) will work. This is meerly a method that sufficiently represents the likely complexity of our future model(s) whilst allowing us to use easily available back-dated data.\n",
    "\n",
    "The data used in this notebook was sourced from [Football-Data.co.uk](https://Football-Data.co.uk).\n",
    "\n"
   ]
  },
  {
   "cell_type": "code",
   "execution_count": 1,
   "metadata": {},
   "outputs": [],
   "source": [
    "import pandas as pd\n",
    "import mlflow\n",
    "\n",
    "import sys\n",
    "import os\n",
    "\n",
    "sys.path.append(os.path.abspath(os.path.join(\"../src\")))\n",
    "from src.ingestion.preprocess import create_dataframe\n",
    "from experiment import run_experiment\n",
    "from helper_functions import generate_random_string"
   ]
  },
  {
   "cell_type": "code",
   "execution_count": 2,
   "metadata": {},
   "outputs": [],
   "source": [
    "raw_data = pd.read_csv(\"../data/raw_games.csv\")"
   ]
  },
  {
   "cell_type": "code",
   "execution_count": 3,
   "metadata": {},
   "outputs": [
    {
     "name": "stderr",
     "output_type": "stream",
     "text": [
      "\u001b[32m2025-02-20 18:00:01.098\u001b[0m | \u001b[1mINFO    \u001b[0m | \u001b[36mlegacy.preprocess\u001b[0m:\u001b[36mcreate_dataframe\u001b[0m:\u001b[36m13\u001b[0m - \u001b[1mStarting dataset creation\u001b[0m\n",
      "\u001b[32m2025-02-20 18:00:01.102\u001b[0m | \u001b[1mINFO    \u001b[0m | \u001b[36mlegacy.preprocess\u001b[0m:\u001b[36mcreate_dataframe\u001b[0m:\u001b[36m113\u001b[0m - \u001b[1mHome and away dataframes created succesfully\u001b[0m\n",
      "\u001b[32m2025-02-20 18:00:01.106\u001b[0m | \u001b[1mINFO    \u001b[0m | \u001b[36mlegacy.preprocess\u001b[0m:\u001b[36mcreate_dataframe\u001b[0m:\u001b[36m119\u001b[0m - \u001b[1mHome and away dataframes succesfully combined and grouped\u001b[0m\n",
      "\u001b[32m2025-02-20 18:00:01.113\u001b[0m | \u001b[1mINFO    \u001b[0m | \u001b[36mlegacy.preprocess\u001b[0m:\u001b[36mcreate_dataframe\u001b[0m:\u001b[36m151\u001b[0m - \u001b[1mTeam stats succesfully merged onto game data\u001b[0m\n",
      "\u001b[32m2025-02-20 18:00:01.115\u001b[0m | \u001b[1mINFO    \u001b[0m | \u001b[36mlegacy.preprocess\u001b[0m:\u001b[36mcreate_dataframe\u001b[0m:\u001b[36m156\u001b[0m - \u001b[1mDuplicate columns successfully dropped\u001b[0m\n",
      "\u001b[32m2025-02-20 18:00:01.118\u001b[0m | \u001b[1mINFO    \u001b[0m | \u001b[36mlegacy.preprocess\u001b[0m:\u001b[36mcreate_dataframe\u001b[0m:\u001b[36m170\u001b[0m - \u001b[1mDataset creation complete\u001b[0m\n",
      "\u001b[32m2025-02-20 18:00:01.119\u001b[0m | \u001b[1mINFO    \u001b[0m | \u001b[36mlegacy.preprocess\u001b[0m:\u001b[36mcreate_dataframe\u001b[0m:\u001b[36m171\u001b[0m - \u001b[1mDataset length: 12783\u001b[0m\n"
     ]
    }
   ],
   "source": [
    "data = create_dataframe(raw_data)"
   ]
  },
  {
   "cell_type": "code",
   "execution_count": 4,
   "metadata": {},
   "outputs": [],
   "source": [
    "def list_remove(lst: list, remove: list) -> list:\n",
    "    return [x for x in lst if x not in remove]"
   ]
  },
  {
   "cell_type": "code",
   "execution_count": 5,
   "metadata": {},
   "outputs": [],
   "source": [
    "non_features = [\n",
    "    \"season\",\n",
    "    \"div\",\n",
    "    \"date\",\n",
    "    \"h_team\",\n",
    "    \"a_team\",\n",
    "    \"ftr\",\n",
    "    \"b365h\",\n",
    "    \"b365d\",\n",
    "    \"b365a\",\n",
    "    \"h_win\",\n",
    "    \"bookies_prob\",\n",
    "]\n",
    "FEATURE_NAMES = list_remove(data.columns, non_features)\n",
    "ALL_SEASONS = list(data[\"season\"].drop_duplicates())\n",
    "TEST_SEASONS = [\"23_24\", \"24_25\"]\n",
    "VAL_SEASONS = [\"21_22\", \"22_23\"]"
   ]
  },
  {
   "cell_type": "code",
   "execution_count": 6,
   "metadata": {},
   "outputs": [],
   "source": [
    "columns = FEATURE_NAMES + [\"bookies_prob\", \"div\", \"season\", \"h_win\"]\n",
    "\n",
    "data = data[columns]\n",
    "\n",
    "train_full = data[~data[\"season\"].isin(VAL_SEASONS + TEST_SEASONS)]\n",
    "train_full = train_full.drop(columns=[\"bookies_prob\"])\n",
    "\n",
    "val = data[data[\"season\"].isin(VAL_SEASONS) & (data[\"div\"] == \"E0\")]\n",
    "val = val.drop(columns=[\"div\"])"
   ]
  },
  {
   "cell_type": "markdown",
   "metadata": {},
   "source": [
    "## Baseline: Training on All Available EPL Data Only"
   ]
  },
  {
   "cell_type": "code",
   "execution_count": 7,
   "metadata": {},
   "outputs": [],
   "source": [
    "train_bl = train_full.copy()\n",
    "train_bl = train_bl.loc[train_bl[\"div\"] == \"E0\"]\n",
    "train_bl = train_bl.drop(columns=\"div\")"
   ]
  },
  {
   "cell_type": "code",
   "execution_count": 8,
   "metadata": {},
   "outputs": [
    {
     "name": "stdout",
     "output_type": "stream",
     "text": [
      "Experiment run ID: GMRPfoeZ\n"
     ]
    },
    {
     "name": "stderr",
     "output_type": "stream",
     "text": [
      "Training Progress: 100%|██████████| 10000/10000 [00:17<00:00, 569.19epoch/s]\n",
      "Training Output Sampling Progress: 100%|██████████| 1000/1000 [00:24<00:00, 40.57it/s]\n",
      "Validation Output Sampling Progress: 100%|██████████| 1000/1000 [00:24<00:00, 40.20it/s]\n"
     ]
    },
    {
     "name": "stdout",
     "output_type": "stream",
     "text": [
      "🏃 View run rogue-robin-152 at: http://localhost:5001/#/experiments/3/runs/8c724b3c65f54bd4953f0f5a6d52bd94\n",
      "🧪 View experiment at: http://localhost:5001/#/experiments/3\n"
     ]
    }
   ],
   "source": [
    "bl_run_id = generate_random_string()\n",
    "print(f\"Experiment run ID: {bl_run_id}\")\n",
    "\n",
    "run_experiment(\n",
    "    \"data-needs-experiment\",\n",
    "    train_bl,\n",
    "    val,\n",
    "    hidden_units=None,\n",
    "    learning_rate=0.001,\n",
    "    num_epochs=10000,\n",
    "    num_samples=1000,\n",
    "    num_batches=1,\n",
    "    league_tag=\"EPL\",\n",
    "    run_id=bl_run_id,\n",
    "    run_description=\"training on 2010-2021 EPL data\",\n",
    "    return_model=False,\n",
    ")"
   ]
  },
  {
   "cell_type": "code",
   "execution_count": 9,
   "metadata": {},
   "outputs": [
    {
     "data": {
      "text/html": [
       "<div>\n",
       "<style scoped>\n",
       "    .dataframe tbody tr th:only-of-type {\n",
       "        vertical-align: middle;\n",
       "    }\n",
       "\n",
       "    .dataframe tbody tr th {\n",
       "        vertical-align: top;\n",
       "    }\n",
       "\n",
       "    .dataframe thead th {\n",
       "        text-align: right;\n",
       "    }\n",
       "</style>\n",
       "<table border=\"1\" class=\"dataframe\">\n",
       "  <thead>\n",
       "    <tr style=\"text-align: right;\">\n",
       "      <th></th>\n",
       "      <th>tags.run_description</th>\n",
       "      <th>params.n_train</th>\n",
       "      <th>params.num_train_seasons</th>\n",
       "      <th>metrics.train_auc</th>\n",
       "      <th>metrics.val_auc</th>\n",
       "      <th>metrics.train_mse</th>\n",
       "      <th>metrics.val_mse</th>\n",
       "      <th>metrics.val_mse_diff</th>\n",
       "      <th>metrics.val_auc_diff</th>\n",
       "    </tr>\n",
       "  </thead>\n",
       "  <tbody>\n",
       "    <tr>\n",
       "      <th>0</th>\n",
       "      <td>training on 2010-2021 EPL data</td>\n",
       "      <td>2067</td>\n",
       "      <td>11</td>\n",
       "      <td>0.711393</td>\n",
       "      <td>0.717485</td>\n",
       "      <td>0.215309</td>\n",
       "      <td>0.21142</td>\n",
       "      <td>0.005083</td>\n",
       "      <td>-0.024936</td>\n",
       "    </tr>\n",
       "  </tbody>\n",
       "</table>\n",
       "</div>"
      ],
      "text/plain": [
       "             tags.run_description params.n_train params.num_train_seasons  \\\n",
       "0  training on 2010-2021 EPL data           2067                       11   \n",
       "\n",
       "   metrics.train_auc  metrics.val_auc  metrics.train_mse  metrics.val_mse  \\\n",
       "0           0.711393         0.717485           0.215309          0.21142   \n",
       "\n",
       "   metrics.val_mse_diff  metrics.val_auc_diff  \n",
       "0              0.005083             -0.024936  "
      ]
     },
     "execution_count": 9,
     "metadata": {},
     "output_type": "execute_result"
    }
   ],
   "source": [
    "run_data_bl = mlflow.search_runs(filter_string=f\"tags.run_id = '{bl_run_id}'\")[\n",
    "    [\n",
    "        \"tags.run_description\",\n",
    "        \"params.n_train\",\n",
    "        \"params.num_train_seasons\",\n",
    "        \"metrics.train_auc\",\n",
    "        \"metrics.val_auc\",\n",
    "        \"metrics.train_mse\",\n",
    "        \"metrics.val_mse\",\n",
    "        \"metrics.val_mse_diff\",\n",
    "        \"metrics.val_auc_diff\",\n",
    "    ]\n",
    "]\n",
    "\n",
    "run_data_bl"
   ]
  },
  {
   "cell_type": "markdown",
   "metadata": {},
   "source": [
    "## Experiment 1: Cutting Training Data To Recent Seasons "
   ]
  },
  {
   "cell_type": "markdown",
   "metadata": {},
   "source": [
    "### Part A: 2013-2021"
   ]
  },
  {
   "cell_type": "code",
   "execution_count": 10,
   "metadata": {},
   "outputs": [],
   "source": [
    "e1a_train_seasons = [\n",
    "    \"13_14\",\n",
    "    \"14_15\",\n",
    "    \"15_16\",\n",
    "    \"16_17\",\n",
    "    \"17_18\",\n",
    "    \"18_19\",\n",
    "    \"19_20\",\n",
    "    \"20_21\",\n",
    "]"
   ]
  },
  {
   "cell_type": "code",
   "execution_count": 11,
   "metadata": {},
   "outputs": [],
   "source": [
    "train_e1a = train_full.copy()\n",
    "train_e1a = train_e1a.loc[\n",
    "    (train_e1a[\"div\"] == \"E0\") & (train_e1a[\"season\"].isin(e1a_train_seasons))\n",
    "]\n",
    "train_e1a = train_e1a.drop(columns=\"div\")"
   ]
  },
  {
   "cell_type": "code",
   "execution_count": 12,
   "metadata": {},
   "outputs": [
    {
     "name": "stdout",
     "output_type": "stream",
     "text": [
      "Experiment run ID: FCEI7kcV\n"
     ]
    },
    {
     "name": "stderr",
     "output_type": "stream",
     "text": [
      "Training Progress: 100%|██████████| 10000/10000 [00:16<00:00, 623.37epoch/s]\n",
      "Training Output Sampling Progress: 100%|██████████| 1000/1000 [00:25<00:00, 39.84it/s]\n",
      "Validation Output Sampling Progress: 100%|██████████| 1000/1000 [00:25<00:00, 39.75it/s]\n"
     ]
    },
    {
     "name": "stdout",
     "output_type": "stream",
     "text": [
      "🏃 View run orderly-gull-357 at: http://localhost:5001/#/experiments/3/runs/7430fb2d1b934a2589a1e630022ed722\n",
      "🧪 View experiment at: http://localhost:5001/#/experiments/3\n"
     ]
    }
   ],
   "source": [
    "e1a_run_id = generate_random_string()\n",
    "print(f\"Experiment run ID: {e1a_run_id}\")\n",
    "\n",
    "run_experiment(\n",
    "    \"data-needs-experiment\",\n",
    "    train_e1a,\n",
    "    val,\n",
    "    hidden_units=None,\n",
    "    learning_rate=0.001,\n",
    "    num_epochs=10000,\n",
    "    num_samples=1000,\n",
    "    num_batches=1,\n",
    "    league_tag=\"EPL\",\n",
    "    run_id=e1a_run_id,\n",
    "    run_description=\"training on 2013-2021 EPL data\",\n",
    "    return_model=False,\n",
    ")"
   ]
  },
  {
   "cell_type": "code",
   "execution_count": 13,
   "metadata": {},
   "outputs": [
    {
     "data": {
      "text/html": [
       "<div>\n",
       "<style scoped>\n",
       "    .dataframe tbody tr th:only-of-type {\n",
       "        vertical-align: middle;\n",
       "    }\n",
       "\n",
       "    .dataframe tbody tr th {\n",
       "        vertical-align: top;\n",
       "    }\n",
       "\n",
       "    .dataframe thead th {\n",
       "        text-align: right;\n",
       "    }\n",
       "</style>\n",
       "<table border=\"1\" class=\"dataframe\">\n",
       "  <thead>\n",
       "    <tr style=\"text-align: right;\">\n",
       "      <th></th>\n",
       "      <th>tags.run_description</th>\n",
       "      <th>params.n_train</th>\n",
       "      <th>params.num_train_seasons</th>\n",
       "      <th>metrics.train_auc</th>\n",
       "      <th>metrics.val_auc</th>\n",
       "      <th>metrics.train_mse</th>\n",
       "      <th>metrics.val_mse</th>\n",
       "      <th>metrics.val_mse_diff</th>\n",
       "      <th>metrics.val_auc_diff</th>\n",
       "    </tr>\n",
       "  </thead>\n",
       "  <tbody>\n",
       "    <tr>\n",
       "      <th>0</th>\n",
       "      <td>training on 2013-2021 EPL data</td>\n",
       "      <td>1505</td>\n",
       "      <td>8</td>\n",
       "      <td>0.710823</td>\n",
       "      <td>0.710517</td>\n",
       "      <td>0.215461</td>\n",
       "      <td>0.213557</td>\n",
       "      <td>0.00722</td>\n",
       "      <td>-0.031905</td>\n",
       "    </tr>\n",
       "  </tbody>\n",
       "</table>\n",
       "</div>"
      ],
      "text/plain": [
       "             tags.run_description params.n_train params.num_train_seasons  \\\n",
       "0  training on 2013-2021 EPL data           1505                        8   \n",
       "\n",
       "   metrics.train_auc  metrics.val_auc  metrics.train_mse  metrics.val_mse  \\\n",
       "0           0.710823         0.710517           0.215461         0.213557   \n",
       "\n",
       "   metrics.val_mse_diff  metrics.val_auc_diff  \n",
       "0               0.00722             -0.031905  "
      ]
     },
     "execution_count": 13,
     "metadata": {},
     "output_type": "execute_result"
    }
   ],
   "source": [
    "run_data_e1a = mlflow.search_runs(\n",
    "    filter_string=f\"tags.run_id = '{e1a_run_id}'\"\n",
    ")[\n",
    "    [\n",
    "        \"tags.run_description\",\n",
    "        \"params.n_train\",\n",
    "        \"params.num_train_seasons\",\n",
    "        \"metrics.train_auc\",\n",
    "        \"metrics.val_auc\",\n",
    "        \"metrics.train_mse\",\n",
    "        \"metrics.val_mse\",\n",
    "        \"metrics.val_mse_diff\",\n",
    "        \"metrics.val_auc_diff\",\n",
    "    ]\n",
    "]\n",
    "\n",
    "run_data_all = pd.concat([run_data_bl, run_data_e1a])\n",
    "run_data_e1a"
   ]
  },
  {
   "cell_type": "markdown",
   "metadata": {},
   "source": [
    "### Part B: 2017-2021"
   ]
  },
  {
   "cell_type": "code",
   "execution_count": 14,
   "metadata": {},
   "outputs": [],
   "source": [
    "e1b_train_seasons = [\"17_18\", \"18_19\", \"19_20\", \"20_21\"]"
   ]
  },
  {
   "cell_type": "code",
   "execution_count": 15,
   "metadata": {},
   "outputs": [],
   "source": [
    "train_e1b = train_full.copy()\n",
    "train_e1b = train_e1b.loc[\n",
    "    (train_e1b[\"div\"] == \"E0\") & (train_e1b[\"season\"].isin(e1b_train_seasons))\n",
    "]\n",
    "train_e1b = train_e1b.drop(columns=\"div\")"
   ]
  },
  {
   "cell_type": "code",
   "execution_count": 16,
   "metadata": {},
   "outputs": [
    {
     "name": "stdout",
     "output_type": "stream",
     "text": [
      "Experiment run ID: N7c44Xbn\n"
     ]
    },
    {
     "name": "stderr",
     "output_type": "stream",
     "text": [
      "Training Progress: 100%|██████████| 10000/10000 [00:15<00:00, 654.87epoch/s]\n",
      "Training Output Sampling Progress: 100%|██████████| 1000/1000 [00:25<00:00, 39.65it/s]\n",
      "Validation Output Sampling Progress: 100%|██████████| 1000/1000 [00:25<00:00, 39.29it/s]\n"
     ]
    },
    {
     "name": "stdout",
     "output_type": "stream",
     "text": [
      "🏃 View run shivering-panda-160 at: http://localhost:5001/#/experiments/3/runs/f79dcb1807dc4affbaf66c04e380939f\n",
      "🧪 View experiment at: http://localhost:5001/#/experiments/3\n"
     ]
    }
   ],
   "source": [
    "e1b_run_id = generate_random_string()\n",
    "print(f\"Experiment run ID: {e1b_run_id}\")\n",
    "\n",
    "run_experiment(\n",
    "    \"data-needs-experiment\",\n",
    "    train_e1b,\n",
    "    val,\n",
    "    hidden_units=None,\n",
    "    learning_rate=0.001,\n",
    "    num_epochs=10000,\n",
    "    num_samples=1000,\n",
    "    num_batches=1,\n",
    "    league_tag=\"EPL\",\n",
    "    run_id=e1b_run_id,\n",
    "    run_description=\"training on 2017-2021 EPL data\",\n",
    "    return_model=False,\n",
    ")"
   ]
  },
  {
   "cell_type": "code",
   "execution_count": 17,
   "metadata": {},
   "outputs": [
    {
     "data": {
      "text/html": [
       "<div>\n",
       "<style scoped>\n",
       "    .dataframe tbody tr th:only-of-type {\n",
       "        vertical-align: middle;\n",
       "    }\n",
       "\n",
       "    .dataframe tbody tr th {\n",
       "        vertical-align: top;\n",
       "    }\n",
       "\n",
       "    .dataframe thead th {\n",
       "        text-align: right;\n",
       "    }\n",
       "</style>\n",
       "<table border=\"1\" class=\"dataframe\">\n",
       "  <thead>\n",
       "    <tr style=\"text-align: right;\">\n",
       "      <th></th>\n",
       "      <th>tags.run_description</th>\n",
       "      <th>params.n_train</th>\n",
       "      <th>params.num_train_seasons</th>\n",
       "      <th>metrics.train_auc</th>\n",
       "      <th>metrics.val_auc</th>\n",
       "      <th>metrics.train_mse</th>\n",
       "      <th>metrics.val_mse</th>\n",
       "      <th>metrics.val_mse_diff</th>\n",
       "      <th>metrics.val_auc_diff</th>\n",
       "    </tr>\n",
       "  </thead>\n",
       "  <tbody>\n",
       "    <tr>\n",
       "      <th>0</th>\n",
       "      <td>training on 2017-2021 EPL data</td>\n",
       "      <td>755</td>\n",
       "      <td>4</td>\n",
       "      <td>0.717868</td>\n",
       "      <td>0.707477</td>\n",
       "      <td>0.212262</td>\n",
       "      <td>0.215056</td>\n",
       "      <td>0.008719</td>\n",
       "      <td>-0.034945</td>\n",
       "    </tr>\n",
       "  </tbody>\n",
       "</table>\n",
       "</div>"
      ],
      "text/plain": [
       "             tags.run_description params.n_train params.num_train_seasons  \\\n",
       "0  training on 2017-2021 EPL data            755                        4   \n",
       "\n",
       "   metrics.train_auc  metrics.val_auc  metrics.train_mse  metrics.val_mse  \\\n",
       "0           0.717868         0.707477           0.212262         0.215056   \n",
       "\n",
       "   metrics.val_mse_diff  metrics.val_auc_diff  \n",
       "0              0.008719             -0.034945  "
      ]
     },
     "execution_count": 17,
     "metadata": {},
     "output_type": "execute_result"
    }
   ],
   "source": [
    "run_data_e1b = mlflow.search_runs(\n",
    "    filter_string=f\"tags.run_id = '{e1b_run_id}'\"\n",
    ")[\n",
    "    [\n",
    "        \"tags.run_description\",\n",
    "        \"params.n_train\",\n",
    "        \"params.num_train_seasons\",\n",
    "        \"metrics.train_auc\",\n",
    "        \"metrics.val_auc\",\n",
    "        \"metrics.train_mse\",\n",
    "        \"metrics.val_mse\",\n",
    "        \"metrics.val_mse_diff\",\n",
    "        \"metrics.val_auc_diff\",\n",
    "    ]\n",
    "]\n",
    "\n",
    "run_data_all = pd.concat([run_data_all, run_data_e1b])\n",
    "run_data_e1b"
   ]
  },
  {
   "cell_type": "markdown",
   "metadata": {},
   "source": [
    "## Experiment 2: Extending Training Data To Other Top Leagues (All Seasons)"
   ]
  },
  {
   "cell_type": "code",
   "execution_count": 18,
   "metadata": {},
   "outputs": [],
   "source": [
    "train_e2 = train_full.copy()\n",
    "train_e2 = train_e2.drop(columns=\"div\")"
   ]
  },
  {
   "cell_type": "code",
   "execution_count": 19,
   "metadata": {},
   "outputs": [
    {
     "name": "stdout",
     "output_type": "stream",
     "text": [
      "Experiment run ID: oDfvlGn7\n"
     ]
    },
    {
     "name": "stderr",
     "output_type": "stream",
     "text": [
      "Training Progress: 100%|██████████| 10000/10000 [00:23<00:00, 421.22epoch/s]\n",
      "Training Output Sampling Progress: 100%|██████████| 1000/1000 [00:26<00:00, 37.12it/s]\n",
      "Validation Output Sampling Progress: 100%|██████████| 1000/1000 [00:25<00:00, 38.66it/s]\n"
     ]
    },
    {
     "name": "stdout",
     "output_type": "stream",
     "text": [
      "🏃 View run resilient-bass-744 at: http://localhost:5001/#/experiments/3/runs/c38208be72c44f60932f962d7037a7ad\n",
      "🧪 View experiment at: http://localhost:5001/#/experiments/3\n"
     ]
    }
   ],
   "source": [
    "e2_run_id = generate_random_string()\n",
    "print(f\"Experiment run ID: {e2_run_id}\")\n",
    "\n",
    "run_experiment(\n",
    "    \"data-needs-experiment\",\n",
    "    train_e2,\n",
    "    val,\n",
    "    hidden_units=None,\n",
    "    learning_rate=0.001,\n",
    "    num_epochs=10000,\n",
    "    num_samples=1000,\n",
    "    num_batches=1,\n",
    "    league_tag=\"EPL\",\n",
    "    run_id=e2_run_id,\n",
    "    run_description=\"training on 2010-2021 all leagues data\",\n",
    "    return_model=False,\n",
    ")"
   ]
  },
  {
   "cell_type": "code",
   "execution_count": 20,
   "metadata": {},
   "outputs": [
    {
     "data": {
      "text/html": [
       "<div>\n",
       "<style scoped>\n",
       "    .dataframe tbody tr th:only-of-type {\n",
       "        vertical-align: middle;\n",
       "    }\n",
       "\n",
       "    .dataframe tbody tr th {\n",
       "        vertical-align: top;\n",
       "    }\n",
       "\n",
       "    .dataframe thead th {\n",
       "        text-align: right;\n",
       "    }\n",
       "</style>\n",
       "<table border=\"1\" class=\"dataframe\">\n",
       "  <thead>\n",
       "    <tr style=\"text-align: right;\">\n",
       "      <th></th>\n",
       "      <th>tags.run_description</th>\n",
       "      <th>params.n_train</th>\n",
       "      <th>params.num_train_seasons</th>\n",
       "      <th>metrics.train_auc</th>\n",
       "      <th>metrics.val_auc</th>\n",
       "      <th>metrics.train_mse</th>\n",
       "      <th>metrics.val_mse</th>\n",
       "      <th>metrics.val_mse_diff</th>\n",
       "      <th>metrics.val_auc_diff</th>\n",
       "    </tr>\n",
       "  </thead>\n",
       "  <tbody>\n",
       "    <tr>\n",
       "      <th>0</th>\n",
       "      <td>training on 2010-2021 all leagues data</td>\n",
       "      <td>9840</td>\n",
       "      <td>11</td>\n",
       "      <td>0.69937</td>\n",
       "      <td>0.71195</td>\n",
       "      <td>0.217906</td>\n",
       "      <td>0.212736</td>\n",
       "      <td>0.006399</td>\n",
       "      <td>-0.030471</td>\n",
       "    </tr>\n",
       "  </tbody>\n",
       "</table>\n",
       "</div>"
      ],
      "text/plain": [
       "                     tags.run_description params.n_train  \\\n",
       "0  training on 2010-2021 all leagues data           9840   \n",
       "\n",
       "  params.num_train_seasons  metrics.train_auc  metrics.val_auc  \\\n",
       "0                       11            0.69937          0.71195   \n",
       "\n",
       "   metrics.train_mse  metrics.val_mse  metrics.val_mse_diff  \\\n",
       "0           0.217906         0.212736              0.006399   \n",
       "\n",
       "   metrics.val_auc_diff  \n",
       "0             -0.030471  "
      ]
     },
     "execution_count": 20,
     "metadata": {},
     "output_type": "execute_result"
    }
   ],
   "source": [
    "run_data_e2 = mlflow.search_runs(filter_string=f\"tags.run_id = '{e2_run_id}'\")[\n",
    "    [\n",
    "        \"tags.run_description\",\n",
    "        \"params.n_train\",\n",
    "        \"params.num_train_seasons\",\n",
    "        \"metrics.train_auc\",\n",
    "        \"metrics.val_auc\",\n",
    "        \"metrics.train_mse\",\n",
    "        \"metrics.val_mse\",\n",
    "        \"metrics.val_mse_diff\",\n",
    "        \"metrics.val_auc_diff\",\n",
    "    ]\n",
    "]\n",
    "\n",
    "run_data_all = pd.concat([run_data_all, run_data_e2])\n",
    "run_data_e2"
   ]
  },
  {
   "cell_type": "markdown",
   "metadata": {
    "vscode": {
     "languageId": "bat"
    }
   },
   "source": [
    "## Experiment 3: Training on All Top Leagues (Recent Seasons)"
   ]
  },
  {
   "cell_type": "markdown",
   "metadata": {},
   "source": [
    "### Part A: 2013-2021"
   ]
  },
  {
   "cell_type": "code",
   "execution_count": 21,
   "metadata": {},
   "outputs": [],
   "source": [
    "e3a_train_seasons = [\n",
    "    \"13_14\",\n",
    "    \"14_15\",\n",
    "    \"15_16\",\n",
    "    \"16_17\",\n",
    "    \"17_18\",\n",
    "    \"18_19\",\n",
    "    \"19_20\",\n",
    "    \"20_21\",\n",
    "]"
   ]
  },
  {
   "cell_type": "code",
   "execution_count": 22,
   "metadata": {},
   "outputs": [],
   "source": [
    "train_e3a = train_full.copy()\n",
    "train_e3a = train_e3a.loc[train_e3a[\"season\"].isin(e3a_train_seasons)]\n",
    "train_e3a = train_e3a.drop(columns=\"div\")"
   ]
  },
  {
   "cell_type": "code",
   "execution_count": 23,
   "metadata": {},
   "outputs": [
    {
     "name": "stdout",
     "output_type": "stream",
     "text": [
      "Experiment run ID: 2TWRtRia\n"
     ]
    },
    {
     "name": "stderr",
     "output_type": "stream",
     "text": [
      "Training Progress: 100%|██████████| 10000/10000 [00:22<00:00, 446.52epoch/s]\n",
      "Training Output Sampling Progress: 100%|██████████| 1000/1000 [00:26<00:00, 37.20it/s]\n",
      "Validation Output Sampling Progress: 100%|██████████| 1000/1000 [00:25<00:00, 38.51it/s]\n"
     ]
    },
    {
     "name": "stdout",
     "output_type": "stream",
     "text": [
      "🏃 View run unruly-swan-65 at: http://localhost:5001/#/experiments/3/runs/1060f87251a545fda6d48a86a4f549b6\n",
      "🧪 View experiment at: http://localhost:5001/#/experiments/3\n"
     ]
    }
   ],
   "source": [
    "e3a_run_id = generate_random_string()\n",
    "print(f\"Experiment run ID: {e3a_run_id}\")\n",
    "\n",
    "run_experiment(\n",
    "    \"data-needs-experiment\",\n",
    "    train_e3a,\n",
    "    val,\n",
    "    hidden_units=None,\n",
    "    learning_rate=0.001,\n",
    "    num_epochs=10000,\n",
    "    num_samples=1000,\n",
    "    num_batches=1,\n",
    "    league_tag=\"EPL\",\n",
    "    run_id=e3a_run_id,\n",
    "    run_description=\"training on 2013-2021 all leagues data\",\n",
    "    return_model=False,\n",
    ")"
   ]
  },
  {
   "cell_type": "code",
   "execution_count": 24,
   "metadata": {},
   "outputs": [
    {
     "data": {
      "text/html": [
       "<div>\n",
       "<style scoped>\n",
       "    .dataframe tbody tr th:only-of-type {\n",
       "        vertical-align: middle;\n",
       "    }\n",
       "\n",
       "    .dataframe tbody tr th {\n",
       "        vertical-align: top;\n",
       "    }\n",
       "\n",
       "    .dataframe thead th {\n",
       "        text-align: right;\n",
       "    }\n",
       "</style>\n",
       "<table border=\"1\" class=\"dataframe\">\n",
       "  <thead>\n",
       "    <tr style=\"text-align: right;\">\n",
       "      <th></th>\n",
       "      <th>tags.run_description</th>\n",
       "      <th>params.n_train</th>\n",
       "      <th>params.num_train_seasons</th>\n",
       "      <th>metrics.train_auc</th>\n",
       "      <th>metrics.val_auc</th>\n",
       "      <th>metrics.train_mse</th>\n",
       "      <th>metrics.val_mse</th>\n",
       "      <th>metrics.val_mse_diff</th>\n",
       "      <th>metrics.val_auc_diff</th>\n",
       "    </tr>\n",
       "  </thead>\n",
       "  <tbody>\n",
       "    <tr>\n",
       "      <th>0</th>\n",
       "      <td>training on 2013-2021 all leagues data</td>\n",
       "      <td>7127</td>\n",
       "      <td>8</td>\n",
       "      <td>0.7075</td>\n",
       "      <td>0.71195</td>\n",
       "      <td>0.215632</td>\n",
       "      <td>0.213103</td>\n",
       "      <td>0.006767</td>\n",
       "      <td>-0.030471</td>\n",
       "    </tr>\n",
       "  </tbody>\n",
       "</table>\n",
       "</div>"
      ],
      "text/plain": [
       "                     tags.run_description params.n_train  \\\n",
       "0  training on 2013-2021 all leagues data           7127   \n",
       "\n",
       "  params.num_train_seasons  metrics.train_auc  metrics.val_auc  \\\n",
       "0                        8             0.7075          0.71195   \n",
       "\n",
       "   metrics.train_mse  metrics.val_mse  metrics.val_mse_diff  \\\n",
       "0           0.215632         0.213103              0.006767   \n",
       "\n",
       "   metrics.val_auc_diff  \n",
       "0             -0.030471  "
      ]
     },
     "execution_count": 24,
     "metadata": {},
     "output_type": "execute_result"
    }
   ],
   "source": [
    "run_data_e3a = mlflow.search_runs(\n",
    "    filter_string=f\"tags.run_id = '{e3a_run_id}'\"\n",
    ")[\n",
    "    [\n",
    "        \"tags.run_description\",\n",
    "        \"params.n_train\",\n",
    "        \"params.num_train_seasons\",\n",
    "        \"metrics.train_auc\",\n",
    "        \"metrics.val_auc\",\n",
    "        \"metrics.train_mse\",\n",
    "        \"metrics.val_mse\",\n",
    "        \"metrics.val_mse_diff\",\n",
    "        \"metrics.val_auc_diff\",\n",
    "    ]\n",
    "]\n",
    "\n",
    "run_data_all = pd.concat([run_data_all, run_data_e3a])\n",
    "run_data_e3a"
   ]
  },
  {
   "cell_type": "markdown",
   "metadata": {},
   "source": [
    "### Part B: 2017-2021"
   ]
  },
  {
   "cell_type": "code",
   "execution_count": 25,
   "metadata": {},
   "outputs": [],
   "source": [
    "e3b_train_seasons = [\"17_18\", \"18_19\", \"19_20\", \"20_21\"]"
   ]
  },
  {
   "cell_type": "code",
   "execution_count": 26,
   "metadata": {},
   "outputs": [],
   "source": [
    "train_e3b = train_full.copy()\n",
    "train_e3b = train_e3b.loc[train_e3b[\"season\"].isin(e3b_train_seasons)]\n",
    "train_e3b = train_e3b.drop(columns=\"div\")"
   ]
  },
  {
   "cell_type": "code",
   "execution_count": 27,
   "metadata": {},
   "outputs": [
    {
     "name": "stdout",
     "output_type": "stream",
     "text": [
      "Experiment run ID: a2jP5Tj8\n"
     ]
    },
    {
     "name": "stderr",
     "output_type": "stream",
     "text": [
      "Training Progress: 100%|██████████| 10000/10000 [00:18<00:00, 530.29epoch/s]\n",
      "Training Output Sampling Progress: 100%|██████████| 1000/1000 [00:26<00:00, 37.74it/s]\n",
      "Validation Output Sampling Progress: 100%|██████████| 1000/1000 [00:26<00:00, 38.43it/s]\n"
     ]
    },
    {
     "name": "stdout",
     "output_type": "stream",
     "text": [
      "🏃 View run gentle-swan-773 at: http://localhost:5001/#/experiments/3/runs/42d5f745d07c4f28b7517e96b0fb8926\n",
      "🧪 View experiment at: http://localhost:5001/#/experiments/3\n"
     ]
    }
   ],
   "source": [
    "e3b_run_id = generate_random_string()\n",
    "print(f\"Experiment run ID: {e3b_run_id}\")\n",
    "\n",
    "run_experiment(\n",
    "    \"data-needs-experiment\",\n",
    "    train_e3b,\n",
    "    val,\n",
    "    hidden_units=None,\n",
    "    learning_rate=0.001,\n",
    "    num_epochs=10000,\n",
    "    num_samples=1000,\n",
    "    num_batches=1,\n",
    "    league_tag=\"EPL\",\n",
    "    run_id=e3b_run_id,\n",
    "    run_description=\"training on 2017-2021 all leagues data\",\n",
    ")"
   ]
  },
  {
   "cell_type": "code",
   "execution_count": 28,
   "metadata": {},
   "outputs": [
    {
     "data": {
      "text/html": [
       "<div>\n",
       "<style scoped>\n",
       "    .dataframe tbody tr th:only-of-type {\n",
       "        vertical-align: middle;\n",
       "    }\n",
       "\n",
       "    .dataframe tbody tr th {\n",
       "        vertical-align: top;\n",
       "    }\n",
       "\n",
       "    .dataframe thead th {\n",
       "        text-align: right;\n",
       "    }\n",
       "</style>\n",
       "<table border=\"1\" class=\"dataframe\">\n",
       "  <thead>\n",
       "    <tr style=\"text-align: right;\">\n",
       "      <th></th>\n",
       "      <th>tags.run_description</th>\n",
       "      <th>params.n_train</th>\n",
       "      <th>params.num_train_seasons</th>\n",
       "      <th>metrics.train_auc</th>\n",
       "      <th>metrics.val_auc</th>\n",
       "      <th>metrics.train_mse</th>\n",
       "      <th>metrics.val_mse</th>\n",
       "      <th>metrics.val_mse_diff</th>\n",
       "      <th>metrics.val_auc_diff</th>\n",
       "    </tr>\n",
       "  </thead>\n",
       "  <tbody>\n",
       "    <tr>\n",
       "      <th>0</th>\n",
       "      <td>training on 2017-2021 all leagues data</td>\n",
       "      <td>3532</td>\n",
       "      <td>4</td>\n",
       "      <td>0.716869</td>\n",
       "      <td>0.712036</td>\n",
       "      <td>0.212448</td>\n",
       "      <td>0.213771</td>\n",
       "      <td>0.007435</td>\n",
       "      <td>-0.030385</td>\n",
       "    </tr>\n",
       "  </tbody>\n",
       "</table>\n",
       "</div>"
      ],
      "text/plain": [
       "                     tags.run_description params.n_train  \\\n",
       "0  training on 2017-2021 all leagues data           3532   \n",
       "\n",
       "  params.num_train_seasons  metrics.train_auc  metrics.val_auc  \\\n",
       "0                        4           0.716869         0.712036   \n",
       "\n",
       "   metrics.train_mse  metrics.val_mse  metrics.val_mse_diff  \\\n",
       "0           0.212448         0.213771              0.007435   \n",
       "\n",
       "   metrics.val_auc_diff  \n",
       "0             -0.030385  "
      ]
     },
     "execution_count": 28,
     "metadata": {},
     "output_type": "execute_result"
    }
   ],
   "source": [
    "run_data_e3b = mlflow.search_runs(\n",
    "    filter_string=f\"tags.run_id = '{e3b_run_id}'\"\n",
    ")[\n",
    "    [\n",
    "        \"tags.run_description\",\n",
    "        \"params.n_train\",\n",
    "        \"params.num_train_seasons\",\n",
    "        \"metrics.train_auc\",\n",
    "        \"metrics.val_auc\",\n",
    "        \"metrics.train_mse\",\n",
    "        \"metrics.val_mse\",\n",
    "        \"metrics.val_mse_diff\",\n",
    "        \"metrics.val_auc_diff\",\n",
    "    ]\n",
    "]\n",
    "\n",
    "run_data_all = pd.concat([run_data_all, run_data_e3b])\n",
    "run_data_e3b"
   ]
  },
  {
   "cell_type": "markdown",
   "metadata": {},
   "source": [
    "## Experiment 4: Training on Non-EPL Data Only"
   ]
  },
  {
   "cell_type": "code",
   "execution_count": 29,
   "metadata": {},
   "outputs": [],
   "source": [
    "train_e4 = train_full.copy()\n",
    "train_e4 = train_e4.loc[train_e4[\"div\"] != \"E0\"]\n",
    "train_e4 = train_e4.drop(columns=\"div\")"
   ]
  },
  {
   "cell_type": "code",
   "execution_count": 30,
   "metadata": {},
   "outputs": [
    {
     "name": "stdout",
     "output_type": "stream",
     "text": [
      "Experiment run ID: HHTybMHw\n"
     ]
    },
    {
     "name": "stderr",
     "output_type": "stream",
     "text": [
      "Training Progress: 100%|██████████| 10000/10000 [00:22<00:00, 443.83epoch/s]\n",
      "Training Output Sampling Progress: 100%|██████████| 1000/1000 [00:27<00:00, 36.84it/s]\n",
      "Validation Output Sampling Progress: 100%|██████████| 1000/1000 [00:26<00:00, 38.22it/s]\n"
     ]
    },
    {
     "name": "stdout",
     "output_type": "stream",
     "text": [
      "🏃 View run thundering-slug-333 at: http://localhost:5001/#/experiments/3/runs/4a20ebf1dddd464ca501c04965e88498\n",
      "🧪 View experiment at: http://localhost:5001/#/experiments/3\n"
     ]
    }
   ],
   "source": [
    "e4_run_id = generate_random_string()\n",
    "print(f\"Experiment run ID: {e4_run_id}\")\n",
    "\n",
    "run_experiment(\n",
    "    \"data-needs-experiment\",\n",
    "    train_e4,\n",
    "    val,\n",
    "    hidden_units=None,\n",
    "    learning_rate=0.001,\n",
    "    num_epochs=10000,\n",
    "    num_samples=1000,\n",
    "    num_batches=1,\n",
    "    league_tag=\"EPL\",\n",
    "    run_id=e4_run_id,\n",
    "    run_description=\"training on 2010-2021 EPL removed data\",\n",
    "    return_model=False,\n",
    ")"
   ]
  },
  {
   "cell_type": "code",
   "execution_count": 32,
   "metadata": {},
   "outputs": [
    {
     "data": {
      "text/html": [
       "<div>\n",
       "<style scoped>\n",
       "    .dataframe tbody tr th:only-of-type {\n",
       "        vertical-align: middle;\n",
       "    }\n",
       "\n",
       "    .dataframe tbody tr th {\n",
       "        vertical-align: top;\n",
       "    }\n",
       "\n",
       "    .dataframe thead th {\n",
       "        text-align: right;\n",
       "    }\n",
       "</style>\n",
       "<table border=\"1\" class=\"dataframe\">\n",
       "  <thead>\n",
       "    <tr style=\"text-align: right;\">\n",
       "      <th></th>\n",
       "      <th>tags.run_description</th>\n",
       "      <th>params.n_train</th>\n",
       "      <th>params.num_train_seasons</th>\n",
       "      <th>metrics.train_auc</th>\n",
       "      <th>metrics.val_auc</th>\n",
       "      <th>metrics.train_mse</th>\n",
       "      <th>metrics.val_mse</th>\n",
       "      <th>metrics.val_mse_diff</th>\n",
       "      <th>metrics.val_auc_diff</th>\n",
       "    </tr>\n",
       "  </thead>\n",
       "  <tbody>\n",
       "    <tr>\n",
       "      <th>0</th>\n",
       "      <td>training on 2010-2021 EPL removed data</td>\n",
       "      <td>7773</td>\n",
       "      <td>11</td>\n",
       "      <td>0.696691</td>\n",
       "      <td>0.713012</td>\n",
       "      <td>0.218244</td>\n",
       "      <td>0.212588</td>\n",
       "      <td>0.006251</td>\n",
       "      <td>-0.02941</td>\n",
       "    </tr>\n",
       "  </tbody>\n",
       "</table>\n",
       "</div>"
      ],
      "text/plain": [
       "                     tags.run_description params.n_train  \\\n",
       "0  training on 2010-2021 EPL removed data           7773   \n",
       "\n",
       "  params.num_train_seasons  metrics.train_auc  metrics.val_auc  \\\n",
       "0                       11           0.696691         0.713012   \n",
       "\n",
       "   metrics.train_mse  metrics.val_mse  metrics.val_mse_diff  \\\n",
       "0           0.218244         0.212588              0.006251   \n",
       "\n",
       "   metrics.val_auc_diff  \n",
       "0              -0.02941  "
      ]
     },
     "execution_count": 32,
     "metadata": {},
     "output_type": "execute_result"
    }
   ],
   "source": [
    "run_data_e4 = mlflow.search_runs(\n",
    "    filter_string=f\"tags.run_id = '{e4_run_id}'\"\n",
    "    )[['tags.run_description', 'params.n_train', 'params.num_train_seasons', 'metrics.train_auc', 'metrics.val_auc', 'metrics.train_mse', 'metrics.val_mse', \"metrics.val_mse_diff\", \"metrics.val_auc_diff\"]]\n",
    "\n",
    "run_data_all = pd.concat([run_data_all, run_data_e4])\n",
    "run_data_e4"
   ]
  },
  {
   "cell_type": "markdown",
   "metadata": {},
   "source": [
    "## Comparison and Conclusion"
   ]
  },
  {
   "cell_type": "code",
   "execution_count": 33,
   "metadata": {},
   "outputs": [
    {
     "data": {
      "text/html": [
       "<div>\n",
       "<style scoped>\n",
       "    .dataframe tbody tr th:only-of-type {\n",
       "        vertical-align: middle;\n",
       "    }\n",
       "\n",
       "    .dataframe tbody tr th {\n",
       "        vertical-align: top;\n",
       "    }\n",
       "\n",
       "    .dataframe thead th {\n",
       "        text-align: right;\n",
       "    }\n",
       "</style>\n",
       "<table border=\"1\" class=\"dataframe\">\n",
       "  <thead>\n",
       "    <tr style=\"text-align: right;\">\n",
       "      <th></th>\n",
       "      <th>tags.run_description</th>\n",
       "      <th>params.n_train</th>\n",
       "      <th>params.num_train_seasons</th>\n",
       "      <th>metrics.val_auc</th>\n",
       "      <th>metrics.val_mse</th>\n",
       "      <th>metrics.val_mse_diff</th>\n",
       "      <th>metrics.val_auc_diff</th>\n",
       "    </tr>\n",
       "  </thead>\n",
       "  <tbody>\n",
       "    <tr>\n",
       "      <th>0</th>\n",
       "      <td>training on 2010-2021 EPL data</td>\n",
       "      <td>2067</td>\n",
       "      <td>11</td>\n",
       "      <td>0.717485</td>\n",
       "      <td>0.211420</td>\n",
       "      <td>0.005083</td>\n",
       "      <td>-0.024936</td>\n",
       "    </tr>\n",
       "    <tr>\n",
       "      <th>0</th>\n",
       "      <td>training on 2010-2021 EPL removed data</td>\n",
       "      <td>7773</td>\n",
       "      <td>11</td>\n",
       "      <td>0.713012</td>\n",
       "      <td>0.212588</td>\n",
       "      <td>0.006251</td>\n",
       "      <td>-0.029410</td>\n",
       "    </tr>\n",
       "    <tr>\n",
       "      <th>0</th>\n",
       "      <td>training on 2010-2021 all leagues data</td>\n",
       "      <td>9840</td>\n",
       "      <td>11</td>\n",
       "      <td>0.711950</td>\n",
       "      <td>0.212736</td>\n",
       "      <td>0.006399</td>\n",
       "      <td>-0.030471</td>\n",
       "    </tr>\n",
       "    <tr>\n",
       "      <th>0</th>\n",
       "      <td>training on 2013-2021 all leagues data</td>\n",
       "      <td>7127</td>\n",
       "      <td>8</td>\n",
       "      <td>0.711950</td>\n",
       "      <td>0.213103</td>\n",
       "      <td>0.006767</td>\n",
       "      <td>-0.030471</td>\n",
       "    </tr>\n",
       "    <tr>\n",
       "      <th>0</th>\n",
       "      <td>training on 2013-2021 EPL data</td>\n",
       "      <td>1505</td>\n",
       "      <td>8</td>\n",
       "      <td>0.710517</td>\n",
       "      <td>0.213557</td>\n",
       "      <td>0.007220</td>\n",
       "      <td>-0.031905</td>\n",
       "    </tr>\n",
       "    <tr>\n",
       "      <th>0</th>\n",
       "      <td>training on 2017-2021 all leagues data</td>\n",
       "      <td>3532</td>\n",
       "      <td>4</td>\n",
       "      <td>0.712036</td>\n",
       "      <td>0.213771</td>\n",
       "      <td>0.007435</td>\n",
       "      <td>-0.030385</td>\n",
       "    </tr>\n",
       "    <tr>\n",
       "      <th>0</th>\n",
       "      <td>training on 2017-2021 EPL data</td>\n",
       "      <td>755</td>\n",
       "      <td>4</td>\n",
       "      <td>0.707477</td>\n",
       "      <td>0.215056</td>\n",
       "      <td>0.008719</td>\n",
       "      <td>-0.034945</td>\n",
       "    </tr>\n",
       "  </tbody>\n",
       "</table>\n",
       "</div>"
      ],
      "text/plain": [
       "                     tags.run_description params.n_train  \\\n",
       "0          training on 2010-2021 EPL data           2067   \n",
       "0  training on 2010-2021 EPL removed data           7773   \n",
       "0  training on 2010-2021 all leagues data           9840   \n",
       "0  training on 2013-2021 all leagues data           7127   \n",
       "0          training on 2013-2021 EPL data           1505   \n",
       "0  training on 2017-2021 all leagues data           3532   \n",
       "0          training on 2017-2021 EPL data            755   \n",
       "\n",
       "  params.num_train_seasons  metrics.val_auc  metrics.val_mse  \\\n",
       "0                       11         0.717485         0.211420   \n",
       "0                       11         0.713012         0.212588   \n",
       "0                       11         0.711950         0.212736   \n",
       "0                        8         0.711950         0.213103   \n",
       "0                        8         0.710517         0.213557   \n",
       "0                        4         0.712036         0.213771   \n",
       "0                        4         0.707477         0.215056   \n",
       "\n",
       "   metrics.val_mse_diff  metrics.val_auc_diff  \n",
       "0              0.005083             -0.024936  \n",
       "0              0.006251             -0.029410  \n",
       "0              0.006399             -0.030471  \n",
       "0              0.006767             -0.030471  \n",
       "0              0.007220             -0.031905  \n",
       "0              0.007435             -0.030385  \n",
       "0              0.008719             -0.034945  "
      ]
     },
     "execution_count": 33,
     "metadata": {},
     "output_type": "execute_result"
    }
   ],
   "source": [
    "run_data_all.drop(\n",
    "    columns=[\"metrics.train_auc\", \"metrics.train_mse\"]\n",
    ").sort_values(\"metrics.val_mse\", ascending=True)"
   ]
  },
  {
   "cell_type": "markdown",
   "metadata": {},
   "source": [
    "Before making any conclusions on the differences in performance, the reader must keep in mind a few important points:\n",
    "\n",
    "1. We are dealing with very small discrepancies in the evaluation metrics that, at face value, seem negligible. However, when we examine the `val_mse_diff` and `val_auc_diff` columns—which represent the disparity in MSE and AUC between our model and the bookies' odds—we see that these differences are not as insignificant as they first appear. For example, while a $0.001$ difference in MSE might seem inconsequential, if the total difference between our model’s MSE and that of the bookies' odds is only $0.02$, then suddenly that $0.001$ decrease becomes more meaningful and something we should strive to avoid. It is important therefore that we use the `_diff` columns for context when disucssing changes in metrics between runs.\n",
    "\n",
    "2. Due to the model's feature selection, we are only utilising half of the available data points per season (i.e., games in the second half of the season). This means that any conclusions we attribute to insufficient data may not hold to the same extent (if at all) if we adopt an approach that allows us to use most or all of each season’s games.\n",
    "\n",
    "3. Similarly, we cannot rule out that a different approach could lead to entirely different conclusions for other reasons. For example, if we were to find different features that (for whatever reason) carry more predictive signal in later seasons, a model that heavily relies on such features would likely benefit from a more recent training set. However, the goal of this notebook is to develop a rough understanding of how substituting earlier EPL seasons for more recent foreign seasons might affect model performance. This is a trade-off we may have to consider if we want a more comprehensive feature set."
   ]
  }
 ],
 "metadata": {
  "kernelspec": {
   "display_name": "bayes-ball-HWltEeJb-py3.10",
   "language": "python",
   "name": "python3"
  },
  "language_info": {
   "codemirror_mode": {
    "name": "ipython",
    "version": 3
   },
   "file_extension": ".py",
   "mimetype": "text/x-python",
   "name": "python",
   "nbconvert_exporter": "python",
   "pygments_lexer": "ipython3",
   "version": "3.10.12"
  }
 },
 "nbformat": 4,
 "nbformat_minor": 2
}
