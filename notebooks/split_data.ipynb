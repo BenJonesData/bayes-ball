{
 "cells": [
  {
   "cell_type": "code",
   "execution_count": 11,
   "metadata": {},
   "outputs": [],
   "source": [
    "import pandas as pd\n",
    "import random\n",
    "import os"
   ]
  },
  {
   "cell_type": "code",
   "execution_count": 12,
   "metadata": {},
   "outputs": [],
   "source": [
    "random.seed(147)"
   ]
  },
  {
   "cell_type": "code",
   "execution_count": 13,
   "metadata": {},
   "outputs": [],
   "source": [
    "data = pd.read_csv(\"../data/processed_data.csv\")"
   ]
  },
  {
   "cell_type": "code",
   "execution_count": 14,
   "metadata": {},
   "outputs": [],
   "source": [
    "seasons = list(data[\"season\"].drop_duplicates())"
   ]
  },
  {
   "cell_type": "code",
   "execution_count": 15,
   "metadata": {},
   "outputs": [],
   "source": [
    "live_seasons = [seasons.pop(-1)]\n",
    "train_seasons = random.sample(seasons, 8)\n",
    "remaining_seasons = list(set(seasons) - set(train_seasons))\n",
    "val_seasons = random.sample(remaining_seasons, 2)\n",
    "test_seasons = list(set(remaining_seasons) - set(val_seasons))"
   ]
  },
  {
   "cell_type": "code",
   "execution_count": 16,
   "metadata": {},
   "outputs": [
    {
     "name": "stdout",
     "output_type": "stream",
     "text": [
      "Seasons for training: ['21_22', '22_23', '12_13', '16_17', '17_18', '14_15', '13_14', '11_12']\n",
      "Seasons for validating: ['10_11', '18_19']\n",
      "Seasons for testing: ['23_24', '15_16']\n",
      "Seasons for live evaluation: ['24_25']\n"
     ]
    }
   ],
   "source": [
    "print(f\"Seasons for training: {train_seasons}\")\n",
    "print(f\"Seasons for validating: {val_seasons}\")\n",
    "print(f\"Seasons for testing: {test_seasons}\")\n",
    "print(f\"Seasons for live evaluation: {live_seasons}\")"
   ]
  },
  {
   "cell_type": "code",
   "execution_count": 17,
   "metadata": {},
   "outputs": [],
   "source": [
    "train = data[data['season'].isin(train_seasons)]\n",
    "val = data[data['season'].isin(val_seasons)]\n",
    "test = data[data['season'].isin(test_seasons)]\n",
    "live = data[data['season'].isin(live_seasons)]"
   ]
  },
  {
   "cell_type": "code",
   "execution_count": 18,
   "metadata": {},
   "outputs": [
    {
     "name": "stdout",
     "output_type": "stream",
     "text": [
      "Number of games for training: 9087\n",
      "Number of games for validating: 2276\n",
      "Number of games for testing: 2260\n",
      "Number of games currently in live evaluation: 174\n"
     ]
    }
   ],
   "source": [
    "print(f\"Number of games for training: {len(train)}\")\n",
    "print(f\"Number of games for validating: {len(val)}\")\n",
    "print(f\"Number of games for testing: {len(test)}\")\n",
    "print(f\"Number of games currently in live evaluation: {len(live)}\")"
   ]
  },
  {
   "cell_type": "code",
   "execution_count": 19,
   "metadata": {},
   "outputs": [],
   "source": [
    "train.to_csv(\"../data/training_data.csv\", index=False)\n",
    "val.to_csv(\"../data/validation_data.csv\", index=False)\n",
    "test.to_csv(\"../data/test_data.csv\", index=False)"
   ]
  },
  {
   "cell_type": "code",
   "execution_count": 20,
   "metadata": {},
   "outputs": [],
   "source": [
    "# clean up\n",
    "os.remove(\"../data/raw_games.csv\")\n",
    "os.remove(\"../data/processed_data.csv\")"
   ]
  }
 ],
 "metadata": {
  "kernelspec": {
   "display_name": "bayes-ball-HWltEeJb-py3.10",
   "language": "python",
   "name": "python3"
  },
  "language_info": {
   "codemirror_mode": {
    "name": "ipython",
    "version": 3
   },
   "file_extension": ".py",
   "mimetype": "text/x-python",
   "name": "python",
   "nbconvert_exporter": "python",
   "pygments_lexer": "ipython3",
   "version": "3.10.12"
  }
 },
 "nbformat": 4,
 "nbformat_minor": 2
}
